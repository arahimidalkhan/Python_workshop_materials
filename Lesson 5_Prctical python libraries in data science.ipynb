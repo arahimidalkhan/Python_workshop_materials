{
 "cells": [
  {
   "cell_type": "markdown",
   "metadata": {},
   "source": [
    "# Lesson 5: prctical python libraries in data science\n",
    "This lesson is mainly taken from <a href=\"https://www.w3schools.com/python/\" target=\"_blank\">this link</a>.\n"
   ]
  },
  {
   "cell_type": "markdown",
   "metadata": {},
   "source": [
    "## 1. numpy\n"
   ]
  },
  {
   "cell_type": "markdown",
   "metadata": {},
   "source": [
    "We have actually introduced this package in previous lessons. However, if you like to learn more about this package you can take a look at <a href=\"https://docs.scipy.org/doc/numpy-1.15.1/user/quickstart.html\" target=\"_blank\">this link</a>. \n"
   ]
  },
  {
   "cell_type": "markdown",
   "metadata": {},
   "source": [
    "## 2. scipy\n"
   ]
  },
  {
   "cell_type": "markdown",
   "metadata": {},
   "source": [
    "**SciPy** is a scientific computation library that uses `NumPy` underneath.\n",
    "\n",
    "### Numpy VS SciPy\n",
    "\n",
    "Numpy:\n",
    "\n",
    "* Numpy is written in C and use for mathematical or numeric calculation.\n",
    "* It is faster than other Python Libraries\n",
    "* Numpy is the most useful library for Data Science to perform basic calculations.\n",
    "* Numpy contains nothing but array data type which performs the most basic operation like sorting, shaping, indexing, etc. \n",
    "\n",
    "SciPy:\n",
    "\n",
    "* SciPy is built in top of the NumPy\n",
    "* SciPy is a fully-featured version of Linear Algebra while Numpy contains only a few features.\n",
    "* Most new Data Science features are available in Scipy rather than Numpy."
   ]
  },
  {
   "cell_type": "markdown",
   "metadata": {},
   "source": [
    "scipy is a collection of different packages including:\n",
    "\n",
    "* `constants`: Physical and mathematical constants\n",
    "* `optimize`: Optimization\n",
    "* `signal` : Signal processing\n",
    "* `fftpack`: Fourier transform\n",
    "* `sparse`: Sparse matrices\n",
    "* `interpolate`: Interpolation\n",
    "* `integrate`: Integration routines\n",
    "* `io`: Data input and output\n",
    "* `linalg`: \tLinear algebra routines\n",
    "* `special`: Contains numerous functions of mathematical physics\n",
    "\n",
    "Each package must be imported separately. The packages are not automatically imported if you just do `import scipy`. The following usage of optimize package will get error!"
   ]
  },
  {
   "cell_type": "code",
   "execution_count": null,
   "metadata": {},
   "outputs": [],
   "source": [
    "import scipy\n",
    "import math\n",
    "def f(x):\n",
    "    return (x**3 - 2*x**2+10-200*math.sin(x))\n",
    "root=scipy.optimize.newton(f,-1)\n",
    "print(root)"
   ]
  },
  {
   "cell_type": "markdown",
   "metadata": {},
   "source": [
    "### File Input / Output package:\n",
    "\n",
    "Scipy, I/O package, has a wide range of functions for work with different files format which are Matlab, Arff, Wave, Matrix Market, IDL, NetCDF, TXT, CSV and binary format.\n",
    "\n",
    "Let's we take one file format example as which are regularly use of MatLab:\n",
    "\n",
    " \n"
   ]
  },
  {
   "cell_type": "code",
   "execution_count": null,
   "metadata": {},
   "outputs": [],
   "source": [
    "import numpy as np\n",
    "from scipy import io as sio\n",
    "\n",
    "array = np.ones((4, 4))\n",
    "sio.savemat('example.mat', {'ar': array}) \n",
    "\n",
    "data = sio.loadmat('example.mat',struct_as_record=True)\n"
   ]
  },
  {
   "cell_type": "code",
   "execution_count": null,
   "metadata": {},
   "outputs": [],
   "source": [
    "#help(sio.savemat)"
   ]
  },
  {
   "cell_type": "markdown",
   "metadata": {},
   "source": [
    "### Linear Algebra with SciPy\n",
    "\n",
    "* Linear Algebra of SciPy is an implementation of BLAS and ATLAS LAPACK libraries.\n",
    "* Performance of Linear Algebra is very fast compared to BLAS and LAPACK.\n",
    "* Linear algebra routine accepts two-dimensional array object and output is also a two-dimensional array.\n",
    "\n",
    "Now let's do some test with `scipy.linalg`,\n",
    "\n",
    "Calculating determinant of a two-dimensional matrix, "
   ]
  },
  {
   "cell_type": "code",
   "execution_count": null,
   "metadata": {},
   "outputs": [],
   "source": [
    "from scipy import linalg\n",
    "import numpy as np\n",
    "#define square matrix\n",
    "A = np.array([ [4,5], [3,2] ])\n",
    "#pass values to det() function\n",
    "linalg.det( A )"
   ]
  },
  {
   "cell_type": "code",
   "execution_count": null,
   "metadata": {},
   "outputs": [],
   "source": [
    "scipy.linalg.inv(A)"
   ]
  },
  {
   "cell_type": "code",
   "execution_count": null,
   "metadata": {},
   "outputs": [],
   "source": [
    "eg_val, eg_vect = linalg.eig(A)\n",
    "#get eigenvalues\n",
    "print(eg_val)\n",
    "#get eigenvectors\n",
    "print(eg_vect)"
   ]
  },
  {
   "cell_type": "markdown",
   "metadata": {},
   "source": [
    "## Interpolation\n",
    "There are several general interpolation facilities available in SciPy, for data in 1, 2, and higher dimensions:\n",
    "\n",
    "* A class representing an interpolant (`interp1d`) in 1-D, offering several interpolation methods.\n",
    "\n",
    "* Convenience function `griddata` offering a simple interface to interpolation in N dimensions (N = 1, 2, 3, 4, …). \n",
    "\n",
    "* Functions for 1- and 2-D (smoothed) cubic-spline interpolation, based on the FORTRAN library FITPACK.\n",
    "\n",
    "* Interpolation using radial basis functions.\n",
    "\n",
    "For a nice tutorial on `scipy.interpolation` take a look at this link.\n"
   ]
  },
  {
   "cell_type": "code",
   "execution_count": null,
   "metadata": {},
   "outputs": [],
   "source": [
    "from scipy.interpolate import interp1d\n",
    "\n",
    "x = np.linspace(0, 10, num=11, endpoint=True)\n",
    "\n",
    "y = np.cos(-x**2/9.0)\n",
    "\n",
    "f = interp1d(x, y)\n",
    "\n",
    "f2 = interp1d(x, y, kind='cubic')\n",
    "\n",
    "\n",
    "xnew = np.linspace(0, 10, num=101, endpoint=True)\n",
    "\n",
    "import matplotlib.pyplot as plt\n",
    "\n",
    "plt.plot(x, y, 'o', xnew, f(xnew), '-', xnew, f2(xnew), '--')\n",
    "\n",
    "plt.legend(['data', 'linear', 'cubic'], loc='best')\n",
    "\n",
    "plt.show()"
   ]
  },
  {
   "cell_type": "markdown",
   "metadata": {},
   "source": [
    "## 3. matplotlib\n"
   ]
  },
  {
   "cell_type": "markdown",
   "metadata": {},
   "source": [
    "Most of the `Matplotlib` utilities lies under the `pyplot` submodule, and are usually imported under the `plt` alias."
   ]
  },
  {
   "cell_type": "code",
   "execution_count": null,
   "metadata": {},
   "outputs": [],
   "source": [
    "import matplotlib.pyplot as plt\n",
    "import numpy as np\n",
    "\n",
    "x = np.array([0, 1, 2, 3])\n",
    "y = np.array([3, 8, 1, 10])\n",
    "plt.plot(x,y)"
   ]
  },
  {
   "cell_type": "code",
   "execution_count": null,
   "metadata": {},
   "outputs": [],
   "source": [
    "\n",
    "x = np.array([5,7,8,7,2,17,2,9,4,11,12,9,6])\n",
    "y = np.array([99,86,87,88,111,86,103,87,94,78,77,85,86])\n",
    "\n",
    "plt.subplot(2, 2, 1)\n",
    "plt.plot(x)\n",
    "\n",
    "plt.subplot(2,2,2)\n",
    "plt.plot(y, linestyle = 'dotted')\n",
    "\n",
    "plt.subplot(2,2,3)\n",
    "plt.plot(x,y, marker = 'o')\n",
    "\n",
    "plt.subplot(2,2,4)\n",
    "plt.scatter(x, y)\n"
   ]
  },
  {
   "cell_type": "code",
   "execution_count": null,
   "metadata": {},
   "outputs": [],
   "source": [
    "x = np.array([\"A\", \"B\", \"C\", \"D\"])\n",
    "y = np.array([3, 8, 1, 10])\n",
    "\n",
    "plt.subplot(1,3,1)\n",
    "plt.bar(x,y)\n",
    "\n",
    "xx = np.random.normal(170, 10, 250)\n",
    "plt.subplot(1,3,2)\n",
    "plt.hist(xx)\n",
    "\n",
    "plt.subplot(1,3,3)\n",
    "y = np.array([35, 25, 25, 15])\n",
    "plt.pie(y)\n",
    "plt.show()"
   ]
  },
  {
   "cell_type": "code",
   "execution_count": null,
   "metadata": {},
   "outputs": [],
   "source": []
  },
  {
   "cell_type": "markdown",
   "metadata": {},
   "source": [
    "### Exercise:\n",
    "Plot the gaussian function of previous exercise. Then, calculate it's discrete Fourier transform usin `scipy.fftpack.fft` and then plot it's amplitude and phase spectrum using `numpy.abs` and `numpy.angle`"
   ]
  },
  {
   "cell_type": "code",
   "execution_count": null,
   "metadata": {},
   "outputs": [],
   "source": []
  }
 ],
 "metadata": {
  "kernelspec": {
   "display_name": "Python 3",
   "language": "python",
   "name": "python3"
  },
  "language_info": {
   "codemirror_mode": {
    "name": "ipython",
    "version": 3
   },
   "file_extension": ".py",
   "mimetype": "text/x-python",
   "name": "python",
   "nbconvert_exporter": "python",
   "pygments_lexer": "ipython3",
   "version": "3.8.5"
  }
 },
 "nbformat": 4,
 "nbformat_minor": 4
}
