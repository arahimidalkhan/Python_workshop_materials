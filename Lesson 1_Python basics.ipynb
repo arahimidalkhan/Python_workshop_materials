{
 "cells": [
  {
   "cell_type": "markdown",
   "metadata": {},
   "source": [
    "# Lesson 1: Python basics\n"
   ]
  },
  {
   "cell_type": "markdown",
   "metadata": {},
   "source": [
    "## How to read and write in Python\n",
    "Every program is eventually a data processor, so we should know how to input and output data within it. There exists a function, `print()`, to output data from any Python program. To use it, pass a comma separated list of arguments that you want to print to the `print()` function. Let's see an example."
   ]
  },
  {
   "cell_type": "code",
   "execution_count": null,
   "metadata": {},
   "outputs": [],
   "source": [
    "print('5+10 = ',5 + 10, ', 5*10 = ',5*10)\n",
    "print(3 * 7, (17 - 2) * 8)\n",
    "print(2 ** 16)  # two stars are used for exponentiation (2 to the power of 16)\n",
    "print(37 / 3)  # single forward slash is a division\n",
    "print(37 // 3)  # double forward slash is an integer division\n",
    "        # it returns only the quotient of the division (i.e. no remainder)\n",
    "print(37 % 3)  # percent sign is a modulus operator\n",
    "        # it gives the remainder of the left value divided by the right value"
   ]
  },
  {
   "cell_type": "markdown",
   "metadata": {},
   "source": [
    " To input data into a program, we use `input()`. This function reads a single line of text, as a String.\n",
    "\n",
    "Here's a program that reads the user's name and greets them:"
   ]
  },
  {
   "cell_type": "code",
   "execution_count": null,
   "metadata": {},
   "outputs": [],
   "source": [
    "name = input('What is your name?')  # read a single line and store it in the variable \"name\"\n",
    "print('Hi ' + name + '!')\n",
    "print('Hi ' , name ,'!')"
   ]
  },
  {
   "cell_type": "code",
   "execution_count": null,
   "metadata": {},
   "outputs": [],
   "source": [
    "print('What is your name?');\n",
    "name = input()# read a single line and store it in the variable \"name\"\n",
    "print('Hi ' + name + '!')"
   ]
  },
  {
   "cell_type": "markdown",
   "metadata": {},
   "source": [
    "## Sum of numbers and strings\n",
    "\n",
    "Let's try to write a program that inputs two numbers and prints their sum."
   ]
  },
  {
   "cell_type": "code",
   "execution_count": null,
   "metadata": {},
   "outputs": [],
   "source": [
    "a = input('Please enter an input: ')\n",
    "b = input('Please enter another input: ')\n",
    "s = a + b\n",
    "print('Sum of your enteries is: ',s)"
   ]
  },
  {
   "cell_type": "code",
   "execution_count": null,
   "metadata": {},
   "outputs": [],
   "source": [
    "a = int(input('Please enter an integer: '))\n",
    "b = float(input('Please enter a number: '))\n",
    "print('a+b = ',a+b,', a*b = ',a*b)"
   ]
  },
  {
   "cell_type": "markdown",
   "metadata": {},
   "source": [
    "## Python Variables\n",
    "\n",
    "* Variables are containers for storing data values.\n",
    "\n",
    "* Python has no command for **declaring** a variable. A variable is created the moment you first assign a value to it. Variables do not need to be declared with any particular type, and can even change type after they have been set.\n",
    "\n",
    "* Variable names are **case-sensitive**.\n",
    "\n",
    "* Variable names must be started with a **letter**.\n",
    "\n",
    "* In programming, data type is an important concept. Variables can store data of different types, and different types can do different things.\n",
    "\n",
    "* Python has the following data types built-in by default, in these categories:\n",
    "    * Text Type: \t    `str`\n",
    "    * Numeric Types: \t`int`, `float`, `complex`\n",
    "    * Sequence Types: \t`list`, `tuple`\n",
    "    * Mapping Type: \t`dict`\n",
    "    * Boolean Type: \t`bool`"
   ]
  },
  {
   "cell_type": "code",
   "execution_count": null,
   "metadata": {},
   "outputs": [],
   "source": [
    "x=3.14        # x is of type float\n",
    "x = 4         # x is of type int\n",
    "x = \"Shiraz!\"  # x is now of type str\n",
    "print(x)"
   ]
  },
  {
   "cell_type": "markdown",
   "metadata": {},
   "source": [
    "If you want to specify the data type of a variable, this can be done with casting."
   ]
  },
  {
   "cell_type": "code",
   "execution_count": null,
   "metadata": {},
   "outputs": [],
   "source": [
    "x = str(3)    # x will be '3'\n",
    "y = int(3)    # y will be 3\n",
    "z = float(3)  # z will be 3.0 \n",
    "print(x,y,z)\n",
    "print(type(x),type(y),type(z))         #You can get the data type of a variable with the type() function."
   ]
  },
  {
   "cell_type": "code",
   "execution_count": null,
   "metadata": {},
   "outputs": [],
   "source": [
    "x1 = \"Hello World\"                             #str \n",
    "x2 = 20                                        #int\n",
    "x3 = 20.5                                      #float\n",
    "x4 = 5+1j                                      #complex\n",
    "x5 = [\"apple\",10,True, \"banana\", \"cherry\"]     #list\n",
    "x6 = (\"apple\",10,True, \"banana\", \"cherry\")     #tuple: the main property of tuples is that they are immutable. It can not be modified or changed after definition!\n",
    "x7 = {\"name\" : \"John\", \"age\" : 36}             #dict\n",
    "x8 = True                                      #bool \n",
    "x7.get('name')"
   ]
  },
  {
   "cell_type": "markdown",
   "metadata": {},
   "source": [
    "### Python List\n",
    "Lists are used to store multiple items in a single variable. Lists are one of 4 built-in data types in Python used to store collections of data, the other 3 are Tuple, Set, and Dictionary, all with different qualities and usage. Lists are created using square brackets.\n",
    "\n",
    "### Python Tuple\n",
    "Tuples are used to store multiple items in a single variable. A tuple is a collection which is ordered and unchangeable. Tuples are written with round brackets.\n",
    "\n",
    "### Python Dictionary\n",
    "Dictionaries are used to store data values in key:value pairs. A dictionary is a collection which is unordered, changeable and does not allow duplicates. Dictionaries are written with curly brackets, and have keys and values.\n"
   ]
  },
  {
   "cell_type": "markdown",
   "metadata": {},
   "source": [
    "## useful keyboard shortcuts\n",
    "There are many useful keyboard shortcut in Jupyter, have a look at <a href=\"https://www.cheatography.com/weidadeyue/cheat-sheets/jupyter-notebook/\" target=\"_blank\">here</a>.\n",
    "\n",
    "* `Enter`: enter edit mode or go to next line in edit mode\n",
    "* `Shift Enter`: run cell, select below\n",
    "* `Tab`: code **auto-completion** or indent\n",
    "\n",
    "\n"
   ]
  },
  {
   "cell_type": "markdown",
   "metadata": {},
   "source": [
    "## Python indexing, back indexing and slices\n",
    "\n",
    "![title](pythonindexing.png)\n",
    "\n",
    "![title](python-outofrange-index.png)"
   ]
  },
  {
   "cell_type": "code",
   "execution_count": 2,
   "metadata": {},
   "outputs": [
    {
     "name": "stdout",
     "output_type": "stream",
     "text": [
      "1 b 3\n"
     ]
    }
   ],
   "source": [
    "a = [1,5,'a','b','c',4,3,2]\n",
    "print(a[0],a[3],a[6])"
   ]
  },
  {
   "cell_type": "code",
   "execution_count": 3,
   "metadata": {},
   "outputs": [
    {
     "name": "stdout",
     "output_type": "stream",
     "text": [
      "2 4 a\n"
     ]
    }
   ],
   "source": [
    "print(a[-1],a[-3],a[-6])"
   ]
  },
  {
   "cell_type": "code",
   "execution_count": null,
   "metadata": {},
   "outputs": [],
   "source": [
    "print(a[len(a)])"
   ]
  },
  {
   "cell_type": "markdown",
   "metadata": {},
   "source": [
    "### Slicing\n",
    "Slicing is indexing syntax that extracts a portion from a list. If a is a list, then **a[m:n]** returns the portion of a:\n",
    "\n",
    "* Starting with postion m\n",
    "   \n",
    "* Up to `but not including n`\n",
    "   \n",
    "* Negative indexing can also be used\n",
    "\n",
    "Here’s an example:"
   ]
  },
  {
   "cell_type": "code",
   "execution_count": null,
   "metadata": {},
   "outputs": [],
   "source": []
  },
  {
   "cell_type": "code",
   "execution_count": null,
   "metadata": {},
   "outputs": [],
   "source": [
    "a = [1,5,'a','b','c',4,3,2]\n",
    "print(a[2:5])\n",
    "print(a[-5:-2])\n",
    "print(a[1:4])"
   ]
  },
  {
   "cell_type": "markdown",
   "metadata": {},
   "source": [
    "Omitting the first and/or last index:\n",
    "\n",
    "* Omitting the first index **a[:n]** starts the slice at the beginning of the list.\n",
    "* Omitting the last index **a[m:]** extends the slice from the first index m to the end of the list.\n",
    "* Omitting both indexes **a[:]** returns a copy of the entire list, but unlike with a string, it’s a copy, not a reference to the same object.\n",
    "\n",
    "A step can be added to your slice notation. Using an additional : and a third index designates a step, let's call it `k` (**a[m:n:k]**). The step can be either postive or negative:\n"
   ]
  },
  {
   "cell_type": "code",
   "execution_count": null,
   "metadata": {},
   "outputs": [],
   "source": [
    "print(a)"
   ]
  },
  {
   "cell_type": "code",
   "execution_count": null,
   "metadata": {},
   "outputs": [],
   "source": [
    "print(a[0:6:2])\n",
    "print(a[:4])"
   ]
  }
 ],
 "metadata": {
  "kernelspec": {
   "display_name": "Python 3",
   "language": "python",
   "name": "python3"
  },
  "language_info": {
   "codemirror_mode": {
    "name": "ipython",
    "version": 3
   },
   "file_extension": ".py",
   "mimetype": "text/x-python",
   "name": "python",
   "nbconvert_exporter": "python",
   "pygments_lexer": "ipython3",
   "version": "3.8.5"
  }
 },
 "nbformat": 4,
 "nbformat_minor": 4
}
