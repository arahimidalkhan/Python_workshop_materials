{
 "cells": [
  {
   "cell_type": "markdown",
   "metadata": {},
   "source": [
    "# Python programming workshop\n",
    "By Amin Rahimi Dalkhani\n",
    "\n",
    "a.rahimidalkhan@gmail.com\n",
    "\n",
    "## Introduction\n",
    "\n",
    "Python is an **interpreted, high-level and general-purpose** programming language used worldwide. Python's design philosophy emphasizes code **readability** with its notable use of significant whitespace. Its language constructs and object-oriented approach aim to help programmers write clear, logical code for small and large-scale projects.\n",
    "\n",
    "This workshop will provide a gentle, yet intense, introduction to programming using Python for highly motivated students with little or no prior experience in programming. The course will focus on planning and organizing programs in data science applications, as well as the grammar of the Python programming language.\n",
    "\n",
    "## Python IDEs and Code Editors\n",
    "A code editor is a tool that is used to write and edit code. They are usually lightweight and can be great for learning. However, once your program gets larger, you need to test and debug your code, that's where IDEs come in.\n",
    "\n",
    "An **IDE (Integrated Development Environment)** understand your code much better than a text editor. It usually provides features such as build automation, code linting, testing and debugging. This can significantly speed up your work. The downside is that IDEs can be complicated to use.\n",
    "\n",
    "<a href=\"https://www.jetbrains.com/pycharm/\" target=\"_blank\">Pycharm</a> and <a href=\"https://jupyter.org/\" target=\"_blank\">Jupyter Notebook</a> are two most popular IDE's.\n",
    "\n"
   ]
  },
  {
   "cell_type": "markdown",
   "metadata": {},
   "source": [
    "### Pycharm\n",
    "PyCharm is an IDE for professional developers. It is created by JetBrains, a company known for creating great software development tools.\n",
    "There are two versions of PyCharm:\n",
    "\n",
    "    * Community - free open-source version, lightweight, good for Python and scientific development\n",
    "    * Professional - paid version, full-featured IDE with support for Web development as well\n",
    "\n",
    "PyCharm provides all major features that a good IDE should provide: **code completion**, code inspections, error-highlighting and fixes, debugging, and so on. All these features come out of the box.\n",
    "\n",
    "The only major complaint I have heard about PyCharm is that it's resource-intensive. If you have a computer with a small amount of RAM (usually less than 4 GB), your computer may lag.\n",
    "#### Installation\n",
    "To install PyCharm you can download it <a href=\"https://www.jetbrains.com/pycharm/\" target=\"_blank\">here</a>. It must be noted that you have to download and install Python before installing Pycharm. You can find the last active releases of Python <a href=\"https://www.python.org/downloads/\" target=\"_blank\">here</a>. You can also find a nice video totorial on Python programming using Pycharm in <a href=\"https://www.youtube.com/watch?v=rfscVS0vtbw&t=80s\" target=\"_blank\">this link</a>.\n"
   ]
  },
  {
   "cell_type": "markdown",
   "metadata": {},
   "source": [
    "### The Jupyter Notebook\n",
    "The Jupyter Notebook is an open-source web application that allows you to create and share documents that contain live code, equations, visualizations and narrative text. Uses include: data cleaning and transformation, *numerical simulation*, *statistical modeling*, *data visualization*, *machine learning*, and much more.\n",
    "\n",
    "\n",
    "Jupyter Notebook allows you to write programs in a web browser. It designed to support **reproducible research**. Jupyter has become a tool of choice for researchers in data science and others fields. Jupyter Notebooks allow them to share a narrative and supporting code that their peers can re-run, which is why it is often considered a good tool for reproducible science. You can find more interesting information about reproducabe science and research in <a href=\"https://www.earthdatascience.org/courses/intro-to-earth-data-science/open-reproducible-science/get-started-open-reproducible-science/\" target=\"_blank\">here</a>.\n",
    "\n",
    "#### Installation\n",
    "The best way that I know for having Jupyter Notebook and Python is using <a href=\"https://www.anaconda.com/\" target=\"_blank\">anaconda</a> distribution. You can find recent releases of `anaconda` <a href=\"https://www.anaconda.com/products/individual#Downloads\" target=\"_blank\">here</a>. By installing `anaconda` you will have Jupyter Notebook and Python with all the necessary libraries for data science (e.g., Numpy, SciPy, Pandas, ...) pre-installed.\n",
    "![title](anaconda_preinstalled.png)\n"
   ]
  },
  {
   "cell_type": "markdown",
   "metadata": {},
   "source": [
    "# What is Markdown?\n",
    "\n",
    "Markdown is a human readable syntax (also referred to as a markup language) for formatting text documents. Markdown can be used to produce nicely formatted documents including PDFs and web pages. Markdown syntax allows you to format text in many ways, such as making headings, bolding and italicizing words, creating bulleted lists, adding links, formatting mathematical symbols and making tables. These options allow you to format text in visually appealing and organized ways to present your ideas.\n",
    "\n",
    "## Markdown in Jupyter Notebook\n",
    "\n",
    "A great benefit of Jupyter Notebook is that it allows you to combine both code (e.g. Python) and Markdown in one document, so that you can easily document your workflows.\n",
    "\n",
    "A Jupyter Notebook file uses cells to organize content, and it can contain both cells that render text written using the Markdown syntax as well as cells that contain and run Python code.\n",
    "\n",
    "Thus, you can use a combination of Markdown and Python code cells to organize and document your Jupyter Notebook for others to easily read and follow your workflow. \n",
    "Benefits of Markdown for Earth Data Science\n",
    "\n",
    "Being able to include both Markdown and code (e.g. Python) cells in a Jupyter Notebook file supports reproducible science by allowing you to:\n",
    "\n",
    "* Document your workflow: You can add text to the document that describes the steps of your processing workflow (e.g. how data is being processed and what results are produced).\n",
    "* Describe your data: You can describe the data that you are using (e.g. source, pre-processing, metadata).\n",
    "    Interpret code outputs: You can add some text that interprets or discusses the outputs.\n",
    "\n",
    "all in one document!\n",
    "\n",
    "When used effectively, Markdown documentation can help anyone who opens your Jupyter Notebook to follow, understand and even reproduce your workflow. For more information look at <a href=\"https://www.earthdatascience.org/courses/intro-to-earth-data-science/file-formats/use-text-files/format-text-with-markdown-jupyter-notebook/\" target=\"_blank\">this link</a>."
   ]
  }
 ],
 "metadata": {
  "kernelspec": {
   "display_name": "Python 3",
   "language": "python",
   "name": "python3"
  },
  "language_info": {
   "codemirror_mode": {
    "name": "ipython",
    "version": 3
   },
   "file_extension": ".py",
   "mimetype": "text/x-python",
   "name": "python",
   "nbconvert_exporter": "python",
   "pygments_lexer": "ipython3",
   "version": "3.8.5"
  }
 },
 "nbformat": 4,
 "nbformat_minor": 4
}
