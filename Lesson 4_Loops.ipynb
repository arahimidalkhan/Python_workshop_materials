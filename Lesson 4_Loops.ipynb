{
 "cells": [
  {
   "cell_type": "markdown",
   "metadata": {},
   "source": [
    "# Lesson 4: Loops\n",
    "\n",
    "This section is mainly taken from <a href=\"https://snakify.org/en/lessons/\" target=\"_blank\">here</a>.\n",
    "## 1. Conditions; if, then, else\n",
    "The conditional statement in Python has the following syntax:\n",
    "\n",
    "    if condition:\n",
    "        true-block\n",
    "        several instructions that are executed\n",
    "        if the condition evaluates to True\n",
    "    else:\n",
    "        false-block\n",
    "        several instructions that are executed\n",
    "        if the condition evaluates to False\n"
   ]
  },
  {
   "cell_type": "code",
   "execution_count": null,
   "metadata": {},
   "outputs": [],
   "source": [
    "x = int(input())\n",
    "if x > 0:\n",
    "    print(x)\n",
    "else:\n",
    "    print(-x)"
   ]
  },
  {
   "cell_type": "code",
   "execution_count": null,
   "metadata": {},
   "outputs": [],
   "source": [
    "x = int(input())\n",
    "if x < 0:\n",
    "    x = -x\n",
    "print(x)"
   ]
  },
  {
   "cell_type": "code",
   "execution_count": null,
   "metadata": {},
   "outputs": [],
   "source": [
    "# Nested for loops\n",
    "x = int(input())\n",
    "y = int(input())\n",
    "if x > 0:\n",
    "    if y > 0:\n",
    "        # x is greater than 0, y is greater than 0\n",
    "        print(\"Quadrant I\")\n",
    "    else:    \n",
    "        # x is greater than 0, y is less or equal than 0\n",
    "        print(\"Quadrant IV\")\n",
    "else:\n",
    "    if y > 0:\n",
    "        # x is less or equal than 0, y is greater than 0\n",
    "        print(\"Quadrant II\")\n",
    "    else:    \n",
    "        # x is less or equal than 0, y is less or equal than 0\n",
    "        print(\"Quadrant III\")"
   ]
  },
  {
   "cell_type": "markdown",
   "metadata": {},
   "source": [
    "### Comparison operators\n",
    "Usually the condition after if has one or more of the following operators:\n",
    "\n",
    "`<` :  less — the condition is true if left side is less than right side\n",
    "\n",
    "`>` :      greater — the condition is true if left side is greater than right side\n",
    "\n",
    "`<=` :     less or equal\n",
    "\n",
    "`>=` :     greater or equal\n",
    "\n",
    "`==` :     equal\n",
    "\n",
    "`!=` :     not equal "
   ]
  },
  {
   "cell_type": "code",
   "execution_count": null,
   "metadata": {},
   "outputs": [],
   "source": [
    "x = int(input())\n",
    "y = int(input())\n",
    "if x > 0 and y > 0:\n",
    "    print(\"Quadrant I\")\n",
    "elif x > 0 and y < 0:\n",
    "    print(\"Quadrant IV\")\n",
    "elif y > 0:\n",
    "    print(\"Quadrant II\")\n",
    "else:\n",
    "    print(\"Quadrant III\")"
   ]
  },
  {
   "cell_type": "markdown",
   "metadata": {},
   "source": [
    "## 2. For loop\n",
    "`for` loop iterates over any sequence. For instance, any string in Python is a sequence of its characters, so we can iterate over them using `for`:"
   ]
  },
  {
   "cell_type": "code",
   "execution_count": null,
   "metadata": {},
   "outputs": [],
   "source": [
    "for character in 'hello':\n",
    "    print(character)"
   ]
  },
  {
   "cell_type": "markdown",
   "metadata": {},
   "source": [
    "Pay attention to the `:` in `for` loop same as `if` statement!\n",
    "\n",
    "\n",
    "Another use case for a for-loop is to iterate some integer variable in increasing or decreasing order. Such a sequence of integer can be created using the function `range(min_value, max_value,step)` or `range(min_value, max_value)` or `range(max_value)`:"
   ]
  },
  {
   "cell_type": "code",
   "execution_count": null,
   "metadata": {},
   "outputs": [],
   "source": [
    "for i in range(5, 8):\n",
    "    print(i, i ** 2)\n",
    "print('End of loop!')"
   ]
  },
  {
   "cell_type": "code",
   "execution_count": null,
   "metadata": {},
   "outputs": [],
   "source": [
    "for i in range(-5):\n",
    "    print('Hello, world!')"
   ]
  },
  {
   "cell_type": "markdown",
   "metadata": {},
   "source": [
    "Let's have more complex example and sum the integers from 1 to n inclusively."
   ]
  },
  {
   "cell_type": "code",
   "execution_count": null,
   "metadata": {},
   "outputs": [],
   "source": [
    "result = 0\n",
    "n = 5\n",
    "for i in range(1, n + 1):\n",
    "    result += i\n",
    "    print(i,result)\n",
    "    # this += is the shorthand for\n",
    "    # result = result + i\n",
    "print(result)"
   ]
  },
  {
   "cell_type": "code",
   "execution_count": null,
   "metadata": {},
   "outputs": [],
   "source": [
    "for i in range(10, 0, -2):\n",
    "    print(i)"
   ]
  },
  {
   "cell_type": "code",
   "execution_count": null,
   "metadata": {},
   "outputs": [],
   "source": [
    "a=[1,4,3,10,8]\n",
    "for i in a:\n",
    "    print(i,i**2)\n"
   ]
  },
  {
   "cell_type": "markdown",
   "metadata": {},
   "source": [
    "## 3. While loop\n",
    "`while` loop repeats the sequence of actions many times until some condition evaluates to `False`. The condition is given before the loop body and is checked before each execution of the loop body. Typically, the `while` loop is used when it is impossible to determine the exact number of loop iterations in advance.\n",
    "\n",
    "The syntax of the `while` loop in the simplest case looks like this:\n",
    "\n",
    "    while some condition:\n",
    "        a block of statements\n"
   ]
  },
  {
   "cell_type": "code",
   "execution_count": null,
   "metadata": {},
   "outputs": [],
   "source": [
    "i = 1\n",
    "while i <= 10:\n",
    "    print(i ** 2)\n",
    "    i += 1"
   ]
  },
  {
   "cell_type": "markdown",
   "metadata": {},
   "source": [
    "Here is another example use of the `while` loop to **determine the number of digits of an integer n**:"
   ]
  },
  {
   "cell_type": "code",
   "execution_count": null,
   "metadata": {},
   "outputs": [],
   "source": [
    "n = int(input())\n",
    "length = 0\n",
    "while n > 0:\n",
    "    n //= 10  # this is equivalent to n = n // 10\n",
    "    length += 1\n",
    "print(length)"
   ]
  },
  {
   "cell_type": "markdown",
   "metadata": {},
   "source": [
    "## Exercise: \n",
    "Find a root of equation $x^3 -2x^2-10 = 200sin(x)$ with the initial value of $x_0=2$ using Newton-Raphson root finding method.\n",
    "\n",
    "![title](root_finding_example.png)\n",
    "### Theory of Newton-Raphson Method\n",
    "The Newton-Raphson Method is a simple algorithm to find an approximate solution for the root of a real-valued function $𝑓(𝑥)=0$. \n",
    "\n",
    "Based on Taylor series a real function $f(x)$ about a point $x=x_n$ is given by:\n",
    "\n",
    "$f(x_{n+1})=f(x_n)+f\\prime(x_n)(x_{n+1}-x_n) + ...$\n",
    "\n",
    "\n",
    "\n",
    "By considering the linear approximation of function $f$ at point $x_n$, $x_{n+1}$ will be the root of the approximated line:\n",
    "\n",
    "$x_{n+1} = x_n – \\frac{f(x_n)}{f'(x_n)}$\n",
    "\n",
    "By calculating $x_{n+1}$ we can reach a good approximation of the function root.\n",
    "![title](newtonRaphsonMethod.png)"
   ]
  },
  {
   "cell_type": "markdown",
   "metadata": {},
   "source": [
    "Write your solution in the following cell using one of the above mentioned loops!\n",
    "\n",
    "Try not to use Python function except for the sin() and possibaly cosin()!\n"
   ]
  },
  {
   "cell_type": "code",
   "execution_count": 4,
   "metadata": {},
   "outputs": [
    {
     "name": "stdout",
     "output_type": "stream",
     "text": [
      "4 -2.971318763475028\n"
     ]
    }
   ],
   "source": [
    "# Write your solution here:\n"
   ]
  },
  {
   "cell_type": "markdown",
   "metadata": {},
   "source": [
    "How can we solve the problem with Python functions and packages?!!"
   ]
  },
  {
   "cell_type": "code",
   "execution_count": 1,
   "metadata": {},
   "outputs": [],
   "source": [
    "# Write your solution here:\n"
   ]
  }
 ],
 "metadata": {
  "kernelspec": {
   "display_name": "Python 3",
   "language": "python",
   "name": "python3"
  },
  "language_info": {
   "codemirror_mode": {
    "name": "ipython",
    "version": 3
   },
   "file_extension": ".py",
   "mimetype": "text/x-python",
   "name": "python",
   "nbconvert_exporter": "python",
   "pygments_lexer": "ipython3",
   "version": "3.8.5"
  }
 },
 "nbformat": 4,
 "nbformat_minor": 4
}
