{
 "cells": [
  {
   "cell_type": "markdown",
   "metadata": {},
   "source": [
    "# Python Functions, Modules and Libraries\n",
    "\n",
    "A **function** is a block of code which only runs when it is called. You can pass data, known as parameters, into a function. A function can return data as a result.\n",
    "\n",
    "\n",
    "A **module** is a file containing a set of functions you want to include in your application. Consider a module to be the same as a code library.\n",
    "\n",
    "A Python **library** is a reusable chunk of code that you may want to include in your programs/ projects. A **library** describes a collection of core modules.\n"
   ]
  },
  {
   "cell_type": "markdown",
   "metadata": {},
   "source": [
    "## Built-in Functions\n",
    "The Python interpreter has a number of functions built into it that are always available and you can call them directly (such as `input()`, `print()`, `abs()`, `range()`, `sum()`, `len()`, `max()`,`list()`,`int()`, ...). The full list of python built in functions can be found <a href=\"https://docs.python.org/2/library/functions.html\" target=\"_blank\">here</a> in alphabetical order."
   ]
  },
  {
   "cell_type": "markdown",
   "metadata": {},
   "source": [
    "## Creating a Function\n",
    "\n",
    "In Python a function is defined using the def keyword.\n",
    "\n",
    "To call a function, use the function name followed by parenthesis."
   ]
  },
  {
   "cell_type": "code",
   "execution_count": 1,
   "metadata": {},
   "outputs": [
    {
     "name": "stdout",
     "output_type": "stream",
     "text": [
      "Hello from a function\n"
     ]
    }
   ],
   "source": [
    "def my_function():\n",
    "  print(\"Hello from a function\")\n",
    "\n",
    "my_function()"
   ]
  },
  {
   "cell_type": "code",
   "execution_count": 2,
   "metadata": {},
   "outputs": [
    {
     "name": "stdout",
     "output_type": "stream",
     "text": [
      "8 15\n"
     ]
    }
   ],
   "source": [
    "def my_function(a,b):\n",
    "    c=a+b\n",
    "    d=a*b\n",
    "    return c,d\n",
    "\n",
    "c,d=my_function(3,5)\n",
    "print(c,d)"
   ]
  },
  {
   "cell_type": "code",
   "execution_count": 3,
   "metadata": {},
   "outputs": [
    {
     "data": {
      "text/plain": [
       "(8, 15)"
      ]
     },
     "execution_count": 3,
     "metadata": {},
     "output_type": "execute_result"
    }
   ],
   "source": [
    "def my_function():\n",
    "    c=a+b\n",
    "    d=a*b\n",
    "    return c,d\n",
    "a=3\n",
    "b=5\n",
    "my_function()"
   ]
  },
  {
   "cell_type": "markdown",
   "metadata": {},
   "source": [
    "# Python Modules\n",
    "\n",
    "## Create a Module\n",
    "\n",
    "To create a module just save the code you want in a file with the file extension `.py`:"
   ]
  },
  {
   "cell_type": "code",
   "execution_count": 4,
   "metadata": {},
   "outputs": [],
   "source": [
    "# Save this code in a file named mymodule.py\n",
    "def greeting(name):\n",
    "  print(\"Hello, \" + name)\n",
    "\n",
    "def my_function(a,b):\n",
    "    c=a+b\n",
    "    d=a*b\n",
    "    return c,d\n"
   ]
  },
  {
   "cell_type": "markdown",
   "metadata": {},
   "source": [
    "## Use a Module\n",
    "\n",
    "Now we can use the module we just created, by using the import statement:"
   ]
  },
  {
   "cell_type": "code",
   "execution_count": 5,
   "metadata": {},
   "outputs": [
    {
     "name": "stdout",
     "output_type": "stream",
     "text": [
      "Hello, Jonathan\n"
     ]
    },
    {
     "data": {
      "text/plain": [
       "(8, 15)"
      ]
     },
     "execution_count": 5,
     "metadata": {},
     "output_type": "execute_result"
    }
   ],
   "source": [
    "import mymodule\n",
    "\n",
    "mymodule.greeting(\"Jonathan\")\n",
    "#mymodule.my_function(int(input('Please enter an integer: ')),int(input('Please enter another integer: ')))\n",
    "mymodule.my_function(a,b)\n"
   ]
  },
  {
   "cell_type": "markdown",
   "metadata": {},
   "source": [
    "## Built-in Modules\n",
    "\n",
    "There are several built-in modules in Python, which you can import whenever you like. The full list of python built in modules can be found <a href=\"https://docs.python.org/3/py-modindex.html\" target=\"_blank\">here</a> in alphabetical order."
   ]
  },
  {
   "cell_type": "code",
   "execution_count": 6,
   "metadata": {},
   "outputs": [
    {
     "name": "stdout",
     "output_type": "stream",
     "text": [
      "3.8.5\n"
     ]
    }
   ],
   "source": [
    "from platform import python_version\n",
    "print(python_version())"
   ]
  },
  {
   "cell_type": "code",
   "execution_count": 7,
   "metadata": {},
   "outputs": [
    {
     "name": "stdout",
     "output_type": "stream",
     "text": [
      "5 4\n",
      "5\n"
     ]
    }
   ],
   "source": [
    "import math\n",
    "a=4.2\n",
    "x = math.ceil(a)\n",
    "print(x,math.floor(a))\n",
    "print(math.ceil(1 + 3.8))"
   ]
  },
  {
   "cell_type": "code",
   "execution_count": 8,
   "metadata": {},
   "outputs": [
    {
     "name": "stdout",
     "output_type": "stream",
     "text": [
      "4\n"
     ]
    }
   ],
   "source": [
    "from math import ceil\n",
    " \n",
    "x = 7 / 2\n",
    "y = ceil(x)\n",
    "print(y)"
   ]
  },
  {
   "cell_type": "markdown",
   "metadata": {},
   "source": [
    "All the functions of any standard Python module are documented on the official Python website. The description of some popular functions in `math` module is given:\n",
    "\n",
    "* `floor(x)`: \tReturn the floor of x, the largest integer less than or equal to x.\n",
    "* `ceil(x)`: \tReturn the ceiling of x, the smallest integer greater than or equal to x.\n",
    "* `sqrt(x)`: \tReturn the square root of x\n",
    "* `log(x)`: \tWith one argument, return the natural logarithm of x (to base e). With two arguments, return the logarithm of x to the given base\n",
    "* `e`:      \tThe mathematical constant e = 2,71828...\n",
    "* `sin(x)`:  \tReturn the sine of x radians\n",
    "* `asin(x)`: \tReturn the arcsine of x, in radians\n",
    "* `pi`:     \tThe mathematical constant π = 3.1415...\n",
    "\n",
    "These functions cannot be used with complex numbers; use the functions of the same name from the **`cmath`** module if you require support for complex numbers."
   ]
  },
  {
   "cell_type": "code",
   "execution_count": 9,
   "metadata": {},
   "outputs": [
    {
     "name": "stdout",
     "output_type": "stream",
     "text": [
      "45.0\n"
     ]
    }
   ],
   "source": [
    "import cmath\n",
    "\n",
    "x=cmath.phase(1+1j)\n",
    "print(x*180/cmath.pi)\n"
   ]
  },
  {
   "cell_type": "markdown",
   "metadata": {},
   "source": [
    "## Python Libraries\n",
    "Python is an ocean of libraries that serve various purposes. Python Libraries and Packages are a set of useful modules and functions that minimize the use of code in our day to day life. There are now over 137,000 python libraries and 198,826 python packages ready to ease developers’ regular programming experience. These libraries and packages are intended for a variety of modern-day solutions. You can find a gentle introduction to most popular libraries <a href=\"https://www.ubuntupit.com/best-python-libraries-and-packages-for-beginners/\" target=\"_blank\">here</a>.\n",
    "\n",
    "\n",
    "The most popular libraries used in data science and machin learning are:\n",
    "* **NumPy**: Numpy is a popular array – processing package of Python. It provides good support for different dimensional array objects as well as for matrices. Numpy is not only confined to providing arrays only, but it also provides a variety of tools to manage these arrays. It is fast, efficient, and really good for managing matrice and arrays.\n",
    "\n",
    "\n",
    "* **SciPy**: Scipy is an open-source python library that is used for both scientific and technical computation. It is a free python library. And very suitable for machine learning.\n",
    "\n",
    "\n",
    "* **Matplotlib**: Matplotlib is a Python library that uses Python Script to write 2-dimensional graphs and plots. This library helps us to build multiple plots at a time.\n",
    "\n",
    "\n",
    "* **Pandas**: Pandas is a python software package. It is a must to learn for data-science and dedicatedly written for Python language. It is a fast, demonstrative, and adjustable platform that offers intuitive data-structures. You can easily manipulate any type of data such as – structured or time-series data with this amazing package.\n",
    "\n",
    "\n",
    "* **Scikit-Learn**: Scikit learn is a simple and useful python machine learning library. It is written in python, cython, C, and C++. However, most of it is written in the Python programming language. It is a free machine learning library. It is a flexible python package that can work in complete harmony with other python libraries and packages such as Numpy and Scipy.\n",
    "\n",
    "\n",
    "* **PyTorch**: PyTorch is an open-source python machine learning library. It is based on the Torch library and was initially developed by the A.I researcher group of facebook. The good thing about PyTorch is, it can be used for multi- variational applications\n",
    "\n",
    "\n",
    "* **TensorFlow**: TensorFlow is a free, open-source python machine learning library. It is very easy to learn and has a handful collection of useful tools. However, it is not limited to machine learning only; you can also use it for dataflow and programs that are differentiable.\n",
    "\n",
    "\n",
    "* **Keras**: People who want to learn deep neural networks, Keras can be a real good choice for them. Keras is an open-source deep neural network library."
   ]
  },
  {
   "attachments": {},
   "cell_type": "markdown",
   "metadata": {},
   "source": [
    "### Exercise:\n",
    "Write a Python function to calculate the Gaussian function as follows: \n",
    "![image.png](gaussfunction.svg)\n",
    "$\\sigma$ and $\\mu$ are constants taken from user!"
   ]
  },
  {
   "cell_type": "code",
   "execution_count": null,
   "metadata": {},
   "outputs": [],
   "source": []
  }
 ],
 "metadata": {
  "kernelspec": {
   "display_name": "Python 3",
   "language": "python",
   "name": "python3"
  },
  "language_info": {
   "codemirror_mode": {
    "name": "ipython",
    "version": 3
   },
   "file_extension": ".py",
   "mimetype": "text/x-python",
   "name": "python",
   "nbconvert_exporter": "python",
   "pygments_lexer": "ipython3",
   "version": "3.8.5"
  }
 },
 "nbformat": 4,
 "nbformat_minor": 4
}
